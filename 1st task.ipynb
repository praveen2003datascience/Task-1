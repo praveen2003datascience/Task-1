{
 "cells": [
  {
   "cell_type": "markdown",
   "id": "986b9c34",
   "metadata": {},
   "source": [
    "# API_SP.POP.TOTL_DS2_en_csv_v2_354862 Data set"
   ]
  },
  {
   "cell_type": "code",
   "execution_count": 3,
   "id": "4d9dd8f3",
   "metadata": {},
   "outputs": [
    {
     "name": "stdout",
     "output_type": "stream",
     "text": [
      "                  Country Name Country Code     Indicator Name Indicator Code  \\\n",
      "0                        Aruba          ABW  Population, total    SP.POP.TOTL   \n",
      "1  Africa Eastern and Southern          AFE  Population, total    SP.POP.TOTL   \n",
      "2                  Afghanistan          AFG  Population, total    SP.POP.TOTL   \n",
      "3   Africa Western and Central          AFW  Population, total    SP.POP.TOTL   \n",
      "4                       Angola          AGO  Population, total    SP.POP.TOTL   \n",
      "\n",
      "          1960         1961         1962         1963         1964  \\\n",
      "0      54608.0      55811.0      56682.0      57475.0      58178.0   \n",
      "1  130692579.0  134169237.0  137835590.0  141630546.0  145605995.0   \n",
      "2    8622466.0    8790140.0    8969047.0    9157465.0    9355514.0   \n",
      "3   97256290.0   99314028.0  101445032.0  103667517.0  105959979.0   \n",
      "4    5357195.0    5441333.0    5521400.0    5599827.0    5673199.0   \n",
      "\n",
      "          1965  ...         2014         2015         2016         2017  \\\n",
      "0      58782.0  ...     103594.0     104257.0     104874.0     105439.0   \n",
      "1  149742351.0  ...  583651101.0  600008424.0  616377605.0  632746570.0   \n",
      "2    9565147.0  ...   32716210.0   33753499.0   34636207.0   35643418.0   \n",
      "3  108336203.0  ...  397855507.0  408690375.0  419778384.0  431138704.0   \n",
      "4    5736582.0  ...   27128337.0   28127721.0   29154746.0   30208628.0   \n",
      "\n",
      "          2018         2019         2020         2021         2022  \\\n",
      "0     105962.0     106442.0     106585.0     106537.0     106445.0   \n",
      "1  649757148.0  667242986.0  685112979.0  702977106.0  720859132.0   \n",
      "2   36686784.0   37769499.0   38972230.0   40099462.0   41128771.0   \n",
      "3  442646825.0  454306063.0  466189102.0  478185907.0  490330870.0   \n",
      "4   31273533.0   32353588.0   33428486.0   34503774.0   35588987.0   \n",
      "\n",
      "          2023  \n",
      "0     106277.0  \n",
      "1  739108306.0  \n",
      "2   42239854.0  \n",
      "3  502789511.0  \n",
      "4   36684202.0  \n",
      "\n",
      "[5 rows x 68 columns]\n"
     ]
    }
   ],
   "source": [
    "import pandas as pd\n",
    "import matplotlib.pyplot as plt\n",
    "import ipywidgets as widgets\n",
    "from IPython.display import display\n",
    "data = pd.read_csv(\"C:/Users/Praveen T/Downloads/API_SP.POP.TOTL_DS2_en_csv_v2_354862/API_SP.POP.TOTL_DS2_en_csv_v2_354862.csv\")\n",
    "\n",
    "\n",
    "# Display the first few rows to understand the structure of the dataset\n",
    "print(data.head())"
   ]
  },
  {
   "cell_type": "code",
   "execution_count": 4,
   "id": "072a385a",
   "metadata": {},
   "outputs": [
    {
     "data": {
      "application/vnd.jupyter.widget-view+json": {
       "model_id": "2cbbfc24dc434a749b14bc8ec24cf908",
       "version_major": 2,
       "version_minor": 0
      },
      "text/plain": [
       "interactive(children=(Dropdown(description='Country:', options=('Aruba', 'Africa Eastern and Southern', 'Afgha…"
      ]
     },
     "metadata": {},
     "output_type": "display_data"
    }
   ],
   "source": [
    "# Step 2: Create a dropdown menu for selecting the country name\n",
    "country_names = data['Country Name'].unique()\n",
    "country_dropdown = widgets.Dropdown(\n",
    "    options=country_names,\n",
    "    description='Country:',\n",
    "    disabled=False,\n",
    ")\n",
    "\n",
    "def plot_country_data(country_name):\n",
    "    country_data = data[data['Country Name'] == country_name]\n",
    "    if country_data.empty:\n",
    "        raise ValueError(f\"Country '{country_name}' not found in the dataset.\")\n",
    "    years = [str(year) for year in range(1960, 2024)]\n",
    "    country_data = country_data[years].transpose()\n",
    "    if country_data.shape[1] != 1:\n",
    "        raise ValueError(f\"Expected 1 column of data, but found {country_data.shape[1]} columns.\")\n",
    "\n",
    "    country_data.columns = ['Value']\n",
    "    plt.figure(figsize=(14, 8))\n",
    "    plt.bar(country_data.index, country_data['Value'])\n",
    "    plt.xlabel('Year')\n",
    "    plt.ylabel('Value')\n",
    "    plt.title(f'{country_name} Data Over Years')\n",
    "    plt.xticks(rotation=90)\n",
    "    plt.tight_layout()\n",
    "    plt.show()\n",
    "interactive_plot = widgets.interactive(plot_country_data, country_name=country_dropdown)\n",
    "display(interactive_plot)"
   ]
  },
  {
   "cell_type": "code",
   "execution_count": null,
   "id": "be893a70",
   "metadata": {},
   "outputs": [],
   "source": []
  }
 ],
 "metadata": {
  "kernelspec": {
   "display_name": "Python 3 (ipykernel)",
   "language": "python",
   "name": "python3"
  },
  "language_info": {
   "codemirror_mode": {
    "name": "ipython",
    "version": 3
   },
   "file_extension": ".py",
   "mimetype": "text/x-python",
   "name": "python",
   "nbconvert_exporter": "python",
   "pygments_lexer": "ipython3",
   "version": "3.11.4"
  }
 },
 "nbformat": 4,
 "nbformat_minor": 5
}
